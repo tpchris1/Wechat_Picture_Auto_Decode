{
 "cells": [
  {
   "cell_type": "code",
   "execution_count": 38,
   "metadata": {},
   "outputs": [
    {
     "name": "stdout",
     "output_type": "stream",
     "text": [
      "decode_hex: 0xad\n"
     ]
    }
   ],
   "source": [
    "# 自動找出解碼hex code\n",
    "# Reference: https://blog.csdn.net/u010553139/article/details/103522222\n",
    "\n",
    "f = \"1.dat\"\n",
    "fn = \"1\"\n",
    "\n",
    "def imageDecode(f,fn):\n",
    "    \"\"\"\n",
    "    解码\n",
    "    :param f: dat文件\n",
    "    :param fn: 輸出jpg文件檔名\n",
    "    :return:\n",
    "    \"\"\"\n",
    "    # 常數\n",
    "    decode_hex = 0x00\n",
    "    jpg_first_byte = 0xff\n",
    "    jpg_second_byte = 0xd8 \n",
    "    # 讀取最前面兩個bytebyte\n",
    "    byte = open(f,\"rb\").read(2) # type(byte) = int\n",
    "#     print(byte)\n",
    "    # 可視化dat前面兩個byte的hex code\n",
    "#     hexstr = binascii.hexlify(byte)\n",
    "#     print(hexstr)\n",
    "#     first_hex = hexstr[0:2]\n",
    "#     second_hex = hexstr[2:4]\n",
    "#     print(\"first_hex:\",first_hex,\"second_hex:\",second_hex)\n",
    "    # 找到解碼hex編碼\n",
    "    if byte[0] ^ jpg_first_byte == byte[1] ^ jpg_second_byte:\n",
    "        decode_hex = byte[0] ^ jpg_first_byte\n",
    "    \n",
    "    print(\"decode_hex:\", hex(decode_hex))\n",
    "    \n",
    "        \n",
    "    # 讀取.bat\n",
    "    dat_read = open(f,\"rb\")\n",
    "    # 图片输出路径\n",
    "#     out = out_path + fn + \".jpg\"\n",
    "    out = fn + \".jpg\"\n",
    "    # 图片写入\n",
    "    png_write = open(out,\"wb\")\n",
    "    # 循环字节\n",
    "    for now in dat_read:\n",
    "        for nowByte in now:\n",
    "            # 转码计算\n",
    "            newByte = nowByte ^ 0xad\n",
    "            # 转码后重新写入\n",
    "            png_write.write(bytes([newByte]))\n",
    "    dat_read.close()\n",
    "    png_write.close()\n",
    "    # pass\n",
    "\n",
    "imageDecode(f,fn)"
   ]
  },
  {
   "cell_type": "code",
   "execution_count": null,
   "metadata": {},
   "outputs": [],
   "source": []
  }
 ],
 "metadata": {
  "kernelspec": {
   "display_name": "Python 3",
   "language": "python",
   "name": "python3"
  },
  "language_info": {
   "codemirror_mode": {
    "name": "ipython",
    "version": 3
   },
   "file_extension": ".py",
   "mimetype": "text/x-python",
   "name": "python",
   "nbconvert_exporter": "python",
   "pygments_lexer": "ipython3",
   "version": "3.7.3"
  }
 },
 "nbformat": 4,
 "nbformat_minor": 2
}
